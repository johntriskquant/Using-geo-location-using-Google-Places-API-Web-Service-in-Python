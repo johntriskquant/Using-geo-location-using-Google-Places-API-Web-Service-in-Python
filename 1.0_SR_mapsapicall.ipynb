{
 "cells": [
  {
   "cell_type": "code",
   "execution_count": 4,
   "metadata": {
    "collapsed": true
   },
   "outputs": [],
   "source": [
    "# Import Libraries\n",
    "import pandas as pd\n",
    "import json\n",
    "import urllib.request"
   ]
  },
  {
   "cell_type": "code",
   "execution_count": 5,
   "metadata": {},
   "outputs": [],
   "source": [
    "# Read the data set\n",
    "data = pd.read_csv(\"data.csv\")"
   ]
  },
  {
   "cell_type": "code",
   "execution_count": 6,
   "metadata": {},
   "outputs": [],
   "source": [
    "# Enter the authkey\n",
    "auth_key = 'YOURAPIKEY'"
   ]
  },
  {
   "cell_type": "code",
   "execution_count": 7,
   "metadata": {},
   "outputs": [],
   "source": [
    "# Function to fetch data from google api\n",
    "def GoogPlac(lat,lon,radius,auth_key):\n",
    "    location = str(lat) + ',' + str(lon)\n",
    "    MyUrl = ('https://maps.googleapis.com/maps/api/place/nearbysearch/json'\n",
    "           '?location=%s'\n",
    "           '&rankBy=distance&radius=%s'\n",
    "           '&key=%s') % (location, radius, auth_key)\n",
    "    #grabbing the JSON result\n",
    "    response = urllib.request.urlopen(MyUrl)\n",
    "    jsonRaw = response.read()\n",
    "    jsonData = json.loads(jsonRaw)\n",
    "    return jsonData\n"
   ]
  },
  {
   "cell_type": "code",
   "execution_count": null,
   "metadata": {},
   "outputs": [],
   "source": [
    "# Function call\n",
    "data['place_name'] = data.apply(lambda x: GoogPlac(x['lat'],x['long'],50,'name',auth_key), axis=1)\n"
   ]
  },
  {
   "cell_type": "code",
   "execution_count": 166,
   "metadata": {
    "collapsed": true
   },
   "outputs": [],
   "source": [
    "# Fetch top 3 places name and type of place\n",
    "data['zero_name']=data.apply(lambda x: x['place_name']['results'][0]['name'] if len(x['place_name']['results'])>=1 else 'Na',axis=1)\n",
    "data['zero_type']=data.apply(lambda x: x['place_name']['results'][0]['types'] if len(x['place_name']['results'])>=1 else 'Na',axis=1)\n",
    "\n",
    "data['first_name']=data.apply(lambda x: x['place_name']['results'][1]['name'] if len(x['place_name']['results'])>1 else 'Na',axis=1)\n",
    "data['first_type']=data.apply(lambda x: x['place_name']['results'][1]['types'] if len(x['place_name']['results'])>1 else 'Na',axis=1)\n",
    "\n",
    "data['second_name']=data.apply(lambda x: x['place_name']['results'][2]['name'] if len(x['place_name']['results'])>2 else 'Na',axis=1)\n",
    "data['second_type']=data.apply(lambda x: x['place_name']['results'][2]['types'] if len(x['place_name']['results'])>2 else 'Na',axis=1)\n",
    "\n",
    "data['third_name']=data.apply(lambda x: x['place_name']['results'][3]['name'] if len(x['place_name']['results'])>3 else 'Na',axis=1)\n",
    "data['third_type']=data.apply(lambda x: x['place_name']['results'][3]['types'] if len(x['place_name']['results'])>3 else 'Na',axis=1)"
   ]
  },
  {
   "cell_type": "code",
   "execution_count": 167,
   "metadata": {},
   "outputs": [],
   "source": [
    "# Expore the dataset\n",
    "data.to_csv('data_updated.csv')"
   ]
  }
 ],
 "metadata": {
  "kernelspec": {
   "display_name": "Python 3",
   "language": "python",
   "name": "python3"
  },
  "language_info": {
   "codemirror_mode": {
    "name": "ipython",
    "version": 3
   },
   "file_extension": ".py",
   "mimetype": "text/x-python",
   "name": "python",
   "nbconvert_exporter": "python",
   "pygments_lexer": "ipython3",
   "version": "3.6.3"
  },
  "varInspector": {
   "cols": {
    "lenName": 16,
    "lenType": 16,
    "lenVar": 40
   },
   "kernels_config": {
    "python": {
     "delete_cmd_postfix": "",
     "delete_cmd_prefix": "del ",
     "library": "var_list.py",
     "varRefreshCmd": "print(var_dic_list())"
    },
    "r": {
     "delete_cmd_postfix": ") ",
     "delete_cmd_prefix": "rm(",
     "library": "var_list.r",
     "varRefreshCmd": "cat(var_dic_list()) "
    }
   },
   "types_to_exclude": [
    "module",
    "function",
    "builtin_function_or_method",
    "instance",
    "_Feature"
   ],
   "window_display": false
  }
 },
 "nbformat": 4,
 "nbformat_minor": 2
}
